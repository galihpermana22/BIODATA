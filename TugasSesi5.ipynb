{
  "nbformat": 4,
  "nbformat_minor": 0,
  "metadata": {
    "colab": {
      "provenance": [],
      "authorship_tag": "ABX9TyNvGU5abyubh0KW+1YFfTIM",
      "include_colab_link": true
    },
    "kernelspec": {
      "name": "python3",
      "display_name": "Python 3"
    },
    "language_info": {
      "name": "python"
    }
  },
  "cells": [
    {
      "cell_type": "markdown",
      "metadata": {
        "id": "view-in-github",
        "colab_type": "text"
      },
      "source": [
        "<a href=\"https://colab.research.google.com/github/galihpermana22/biodata/blob/main/TugasSesi5.ipynb\" target=\"_parent\"><img src=\"https://colab.research.google.com/assets/colab-badge.svg\" alt=\"Open In Colab\"/></a>"
      ]
    },
    {
      "cell_type": "code",
      "execution_count": 13,
      "metadata": {
        "colab": {
          "base_uri": "https://localhost:8080/"
        },
        "id": "RywINon1Ewh7",
        "outputId": "bd9ad46f-fdce-4dae-e0ac-8db74297a28b"
      },
      "outputs": [
        {
          "output_type": "stream",
          "name": "stdout",
          "text": [
            "Nama saya Galih Permana dari Kelas TI22E Tempat tinggal saya di Cipanengah, Lembursitu dan Hobby saya Bermain Game\n"
          ]
        }
      ],
      "source": [
        "nama = 'Galih Permana'\n",
        "kelas = 'TI22E'\n",
        "alamat = 'Cipanengah, Lembursitu'\n",
        "hobby = 'Bermain Game'\n",
        "\n",
        "\n",
        "print('Nama saya {} dari Kelas {} Tempat tinggal saya di {} dan Hobby saya {}'.format(nama, kelas, alamat, hobby))"
      ]
    }
  ]
}